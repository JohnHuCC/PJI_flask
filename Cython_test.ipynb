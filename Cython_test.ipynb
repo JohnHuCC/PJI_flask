{
 "cells": [
  {
   "cell_type": "code",
   "execution_count": 1,
   "metadata": {},
   "outputs": [
    {
     "name": "stdout",
     "output_type": "stream",
     "text": [
      "[15:47:11] WARNING: /Users/runner/work/xgboost/xgboost/python-package/build/temp.macosx-10.9-x86_64-3.7/xgboost/src/learner.cc:627: \n",
      "Parameters: { \"enable_experimental_json_serialization\" } might not be used.\n",
      "\n",
      "  This could be a false alarm, with some parameters getting used by language bindings but\n",
      "  then being mistakenly passed down to XGBoost core, or some parameter actually being used\n",
      "  but getting flagged wrongly here. Please open an issue if you find any such cases.\n",
      "\n",
      "\n",
      "[15:47:11] WARNING: /Users/runner/work/xgboost/xgboost/python-package/build/temp.macosx-10.9-x86_64-3.7/xgboost/src/learner.cc:627: \n",
      "Parameters: { \"enable_experimental_json_serialization\" } might not be used.\n",
      "\n",
      "  This could be a false alarm, with some parameters getting used by language bindings but\n",
      "  then being mistakenly passed down to XGBoost core, or some parameter actually being used\n",
      "  but getting flagged wrongly here. Please open an issue if you find any such cases.\n",
      "\n",
      "\n",
      "[2 2 2 2 2 2]\n",
      "Enumerate the decision path of the explain[0]\n",
      "Enumerate the decision path of the explain[1]\n",
      "Enumerate the decision path of the explain[2]\n",
      "Enumerate the decision path of the explain[3]\n",
      "Enumerate the decision path of the explain[4]\n",
      "['Serum_ESR <= 39.5 and Serum_WBC_ <= 11.5 and Synovial_WBC <= 8280.0 and Serum_CRP <= 26.0 and Age > 51.0', 'Synovial_WBC <= 7003.0 and Positive_Histology == False and Serum_ESR <= 39.5', 'Positive_Histology == False and Serum_ESR <= 39.5 and Synovial_WBC <= 14587.5', 'Serum_ESR <= 48.5 and Positive_Histology == False and Purulence == False and Synovial_WBC <= 14587.5 and Serum_ESR <= 39.5', 'Positive_Histology == False and Synovial_WBC <= 14587.5 and Synovial_PMN <= 83.0 and Serum_ESR <= 88.5', 'Positive_Histology == False and Serum_ESR <= 50.0 and Synovial_WBC <= 22190.0 and Purulence == False and APTT <= 31.5', 'Serum_ESR <= 39.5 and Purulence == False and Positive_Histology == False and two_positive_culture == False', 'Serum_ESR <= 39.5 and Synovial_WBC <= 30649.0 and Positive_Histology == False and Segment <= 78.5', 'Positive_Histology == False and Serum_ESR <= 50.0 and Purulence == False and Serum_ESR <= 41.0', 'Serum_ESR <= 41.0 and Positive_Histology == False and Synovial_WBC <= 155300.0', 'Positive_Histology == False and Serum_ESR <= 39.5 and Serum_CRP <= 59.0', 'Positive_Histology == False and Serum_CRP <= 29.0 and Serum_ESR <= 39.5', 'Segment <= 70.5 and Positive_Histology == False and APTT <= 32.5 and Age > 45.0 and two_positive_culture == False and APTT <= 31.5 and Serum_CRP <= 29.0']\n",
      "Start time = 1663832833.551323\n",
      "End time = 1663832930.319547\n",
      "Cython time = 96.76822400093079\n"
     ]
    },
    {
     "data": {
      "text/plain": [
       "<module 'fidelity_DecisionPath_c' from '/Users/johnnyhu/Desktop/flask-d3-example/app/fidelity_DecisionPath_c.cpython-38-darwin.so'>"
      ]
     },
     "execution_count": 1,
     "metadata": {},
     "output_type": "execute_result"
    },
    {
     "data": {
      "image/png": "[encoded data removed]",
      "text/plain": [
       "<Figure size 432x288 with 1 Axes>"
      ]
     },
     "metadata": {
      "needs_background": "light"
     },
     "output_type": "display_data"
    }
   ],
   "source": [
    "import fidelity_DecisionPath_c\n",
    "\n",
    "fidelity_DecisionPath_c"
   ]
  },
  {
   "cell_type": "code",
   "execution_count": 3,
   "metadata": {},
   "outputs": [
    {
     "name": "stdout",
     "output_type": "stream",
     "text": [
      "[15:55:41] WARNING: /Users/runner/work/xgboost/xgboost/python-package/build/temp.macosx-10.9-x86_64-3.7/xgboost/src/learner.cc:627: \n",
      "Parameters: { \"enable_experimental_json_serialization\" } might not be used.\n",
      "\n",
      "  This could be a false alarm, with some parameters getting used by language bindings but\n",
      "  then being mistakenly passed down to XGBoost core, or some parameter actually being used\n",
      "  but getting flagged wrongly here. Please open an issue if you find any such cases.\n",
      "\n",
      "\n",
      "['Age', 'Segment (%)', 'HGB', 'PLATELET', 'Serum WBC ', 'P.T', 'APTT', 'Total CCI', 'Total Elixhauser Groups per record', 'Primary, Revision\\nnative hip', 'ASA_2', '2X positive culture', 'Serum CRP', 'Serum ESR', 'Synovial WBC', 'Single Positive culture', 'Synovial_PMN', 'Positive Histology', 'Purulence']\n",
      "     Group\n",
      "0        1\n",
      "1        1\n",
      "2        1\n",
      "3        1\n",
      "4        1\n",
      "..     ...\n",
      "318      1\n",
      "319      1\n",
      "320      1\n",
      "321      1\n",
      "322      1\n",
      "\n",
      "[322 rows x 1 columns]\n",
      "[15:55:41] WARNING: /Users/runner/work/xgboost/xgboost/python-package/build/temp.macosx-10.9-x86_64-3.7/xgboost/src/learner.cc:627: \n",
      "Parameters: { \"enable_experimental_json_serialization\" } might not be used.\n",
      "\n",
      "  This could be a false alarm, with some parameters getting used by language bindings but\n",
      "  then being mistakenly passed down to XGBoost core, or some parameter actually being used\n",
      "  but getting flagged wrongly here. Please open an issue if you find any such cases.\n",
      "\n",
      "\n",
      "[2 2 2 2 2 2]\n",
      "train:1\n",
      "train:2\n",
      "train:3\n",
      "train:4\n",
      "train:5\n",
      "Enumerate the decision path of the explain[0]\n",
      "Enumerate the decision path of the explain[1]\n",
      "Enumerate the decision path of the explain[2]\n",
      "Enumerate the decision path of the explain[3]\n",
      "Enumerate the decision path of the explain[4]\n",
      "['Serum_ESR <= 39.5 and Serum_WBC_ <= 11.5 and Synovial_WBC <= 8280.0 and Serum_CRP <= 26.0 and Age > 51.0', 'Synovial_WBC <= 7003.0 and Positive_Histology == False and Serum_ESR <= 39.5', 'Positive_Histology == False and Serum_ESR <= 39.5 and Synovial_WBC <= 14587.5', 'Serum_ESR <= 48.5 and Positive_Histology == False and Purulence == False and Synovial_WBC <= 14587.5 and Serum_ESR <= 39.5', 'Positive_Histology == False and Synovial_WBC <= 14587.5 and Synovial_PMN <= 83.0 and Serum_ESR <= 88.5', 'Positive_Histology == False and Serum_ESR <= 50.0 and Synovial_WBC <= 22190.0 and Purulence == False and APTT <= 31.5', 'Serum_ESR <= 39.5 and Purulence == False and Positive_Histology == False and two_positive_culture == False', 'Serum_ESR <= 39.5 and Synovial_WBC <= 30649.0 and Positive_Histology == False and Segment <= 78.5', 'Positive_Histology == False and Serum_ESR <= 50.0 and Purulence == False and Serum_ESR <= 41.0', 'Serum_ESR <= 41.0 and Positive_Histology == False and Synovial_WBC <= 155300.0', 'Positive_Histology == False and Serum_ESR <= 39.5 and Serum_CRP <= 59.0', 'Positive_Histology == False and Serum_CRP <= 29.0 and Serum_ESR <= 39.5', 'Segment <= 70.5 and Positive_Histology == False and APTT <= 32.5 and Age > 45.0 and two_positive_culture == False and APTT <= 31.5 and Serum_CRP <= 29.0']\n",
      "Start time = 1663833347.564827\n",
      "End time = 1663833638.589292\n",
      "Cython time = 291.0244650840759\n"
     ]
    },
    {
     "data": {
      "text/plain": [
       "<module 'fidelity_DecisionPath' from '/Users/johnnyhu/Desktop/flask-d3-example/app/fidelity_DecisionPath.py'>"
      ]
     },
     "execution_count": 3,
     "metadata": {},
     "output_type": "execute_result"
    },
    {
     "data": {
      "image/png": "[encoded data removed]",
      "text/plain": [
       "<Figure size 432x288 with 1 Axes>"
      ]
     },
     "metadata": {},
     "output_type": "display_data"
    }
   ],
   "source": [
    "import fidelity_DecisionPath\n",
    "\n",
    "fidelity_DecisionPath"
   ]
  },
  {
   "cell_type": "code",
   "execution_count": null,
   "metadata": {},
   "outputs": [],
   "source": []
  }
 ],
 "metadata": {
  "kernelspec": {
   "display_name": "Python 3",
   "language": "python",
   "name": "python3"
  },
  "language_info": {
   "codemirror_mode": {
    "name": "ipython",
    "version": 3
   },
   "file_extension": ".py",
   "mimetype": "text/x-python",
   "name": "python",
   "nbconvert_exporter": "python",
   "pygments_lexer": "ipython3",
   "version": "3.8.3"
  }
 },
 "nbformat": 4,
 "nbformat_minor": 4
}
